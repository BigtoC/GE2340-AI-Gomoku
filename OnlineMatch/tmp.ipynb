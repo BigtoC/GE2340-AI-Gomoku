{
 "cells": [
  {
   "cell_type": "code",
   "execution_count": 1,
   "metadata": {
    "pycharm": {
     "is_executing": false
    }
   },
   "outputs": [
    {
     "ename": "ModuleNotFoundError",
     "evalue": "No module named 'OnlineMatch'",
     "output_type": "error",
     "traceback": [
      "\u001b[1;31m---------------------------------------------------------------------------\u001b[0m",
      "\u001b[1;31mModuleNotFoundError\u001b[0m                       Traceback (most recent call last)",
      "\u001b[1;32m<ipython-input-1-72bd403d4383>\u001b[0m in \u001b[0;36m<module>\u001b[1;34m\u001b[0m\n\u001b[0;32m      2\u001b[0m \u001b[1;32mimport\u001b[0m \u001b[0masyncio\u001b[0m\u001b[1;33m\u001b[0m\u001b[1;33m\u001b[0m\u001b[0m\n\u001b[0;32m      3\u001b[0m \u001b[1;32mimport\u001b[0m \u001b[0mnest_asyncio\u001b[0m\u001b[1;33m\u001b[0m\u001b[1;33m\u001b[0m\u001b[0m\n\u001b[1;32m----> 4\u001b[1;33m \u001b[1;32mimport\u001b[0m \u001b[0mOnlineMatch\u001b[0m\u001b[1;33m.\u001b[0m\u001b[0mglobal_data\u001b[0m \u001b[1;32mas\u001b[0m \u001b[0mgb\u001b[0m\u001b[1;33m\u001b[0m\u001b[1;33m\u001b[0m\u001b[0m\n\u001b[0m\u001b[0;32m      5\u001b[0m \u001b[1;32mimport\u001b[0m \u001b[0mOnlineMatch\u001b[0m\u001b[1;33m.\u001b[0m\u001b[0mmonitor_result\u001b[0m \u001b[1;32mas\u001b[0m \u001b[0mmon\u001b[0m\u001b[1;33m\u001b[0m\u001b[1;33m\u001b[0m\u001b[0m\n\u001b[0;32m      6\u001b[0m \u001b[1;33m\u001b[0m\u001b[0m\n",
      "\u001b[1;31mModuleNotFoundError\u001b[0m: No module named 'OnlineMatch'"
     ]
    }
   ],
   "source": [
    "from pyppeteer import launch\n",
    "import asyncio\n",
    "import nest_asyncio\n",
    "import OnlineMatch.global_data as gb\n",
    "import OnlineMatch.monitor_result as mon\n",
    "\n",
    "nest_asyncio.apply()"
   ]
  },
  {
   "cell_type": "code",
   "execution_count": null,
   "metadata": {},
   "outputs": [],
   "source": []
  },
  {
   "cell_type": "code",
   "execution_count": 6,
   "metadata": {
    "collapsed": false,
    "jupyter": {
     "outputs_hidden": false
    },
    "pycharm": {
     "is_executing": false,
     "name": "#%%\n"
    }
   },
   "outputs": [],
   "source": [
    "async def start_computer_game():\n",
    "    \"\"\"\n",
    "    Go to the match ready page\n",
    "    :return: None\n",
    "    \"\"\"\n",
    "    mon.print_time_and_msg(\"Setting up browser for web page...\")\n",
    "\n",
    "    gb.browser = await launch({\n",
    "        \"headless\": False,\n",
    "        \"autoClose\": False\n",
    "    })\n",
    "    page = await gb.browser.newPage()\n",
    "\n",
    "    await page.setViewport({'width': 1920, 'height': 1080})\n",
    "    await page.goto(gb.game_url, {'timeout': 10000 * 30})\n",
    "\n",
    "    # Select level\n",
    "    await page.click(gb.level_selector)\n",
    "    mon.print_time_and_msg(f\"Selected level {gb.level_choice}\")\n",
    "    mon.random_wait()\n",
    "\n",
    "    # Select color\n",
    "    await page.click(gb.color_selector)\n",
    "    mon.print_time_and_msg(f\"Color selected as {gb.start_color}\")\n",
    "    mon.random_wait()\n",
    "\n",
    "    # Click start\n",
    "    start_btn_selector = \"#hooks_wrap > div > form > div.color_submits > button\"\n",
    "    await page.click(start_btn_selector)\n",
    "    mon.print_time_and_msg(f\"Clicked start button \")\n",
    "    mon.random_wait()\n",
    "    \n",
    "    gb.page = page\n"
   ]
  },
  {
   "cell_type": "code",
   "execution_count": 3,
   "metadata": {
    "collapsed": false,
    "jupyter": {
     "outputs_hidden": false
    },
    "pycharm": {
     "name": "#%%\n",
     "is_executing": false
    }
   },
   "outputs": [],
   "source": [
    "async def get_img_position() -> dict:\n",
    "    \"\"\"\n",
    "    Get the chessboard location\n",
    "    :return: Location tuple\n",
    "    \"\"\"\n",
    "    board_selector = \"#lichess > div.round.cg-512 > div.top > div > div.lichess_board_wrap > div > div > div\"\n",
    "\n",
    "    while not await gb.page.J(\"#lichess > div.round.cg-512 > div.top > div > div.lichess_ground > div.table_wrap\"):\n",
    "        mon.random_wait()\n",
    "\n",
    "    chessboard = await gb.page.J(board_selector)\n",
    "    location = await chessboard.boundingBox()  # location is a dict\n",
    "    mon.print_time_and_msg(f\"Got chessboard location: {location}\")\n",
    "    return location\n"
   ]
  },
  {
   "cell_type": "code",
   "execution_count": 4,
   "metadata": {
    "collapsed": false,
    "jupyter": {
     "outputs_hidden": false
    },
    "pycharm": {
     "name": "#%%\n",
     "is_executing": false
    }
   },
   "outputs": [],
   "source": [
    "async def get_chessboard_img(who: str):\n",
    "    \"\"\"\n",
    "    Get the screenshot of the chessboard\n",
    "    :param: Who moved\n",
    "    :return: None\n",
    "    \"\"\"\n",
    "    board_location = asyncio.get_event_loop().run_until_complete(get_img_position())\n",
    "\n",
    "    captcha_option = {\n",
    "        \"path\": f\"Pictures/chessboard-{who}.png\",\n",
    "        \"type\": \"png\",\n",
    "        \"clip\": board_location\n",
    "    }\n",
    "    await gb.page.screenshot(captcha_option)\n",
    "    mon.print_time_and_msg(f\"Took screenshot chessboard-{who}.png\")\n",
    "\n"
   ]
  },
  {
   "cell_type": "code",
   "execution_count": 7,
   "outputs": [
    {
     "name": "stdout",
     "text": [
      "[17:41:02:11] - Setting up browser for web page...\n",
      "[17:41:07:11] - Selected level 1\n",
      "[17:41:08:11] - Color selected as w\n",
      "[17:41:09:11] - Clicked start button \n",
      "[17:41:11:11] - Got chessboard location: {'x': 0, 'y': 0, 'width': 530, 'height': 529}\n",
      "[17:41:11:11] - Took screenshot chessboard-me.png\n"
     ],
     "output_type": "stream"
    }
   ],
   "source": [
    "asyncio.get_event_loop().run_until_complete(\n",
    "        start_computer_game()\n",
    ")\n",
    "asyncio.get_event_loop().run_until_complete(\n",
    "    get_chessboard_img(\"me\")\n",
    ")\n"
   ],
   "metadata": {
    "collapsed": false,
    "pycharm": {
     "name": "#%%\n",
     "is_executing": false
    }
   }
  },
  {
   "cell_type": "code",
   "execution_count": 11,
   "outputs": [
    {
     "name": "stdout",
     "text": [
      "[17:42:46:11] - Got chessboard location: {'x': 0, 'y': 0, 'width': 530, 'height': 529}\n",
      "[17:42:47:11] - Took screenshot chessboard-opp.png\n"
     ],
     "output_type": "stream"
    }
   ],
   "source": [
    "asyncio.get_event_loop().run_until_complete(\n",
    "    get_chessboard_img(\"opp\")\n",
    ")\n",
    "\n"
   ],
   "metadata": {
    "collapsed": false,
    "pycharm": {
     "name": "#%%\n",
     "is_executing": false
    }
   }
  },
  {
   "cell_type": "code",
   "execution_count": 12,
   "outputs": [
    {
     "data": {
      "text/plain": "4"
     },
     "metadata": {},
     "output_type": "execute_result",
     "execution_count": 12
    }
   ],
   "source": [
    "int(4.21875)\n",
    "\n"
   ],
   "metadata": {
    "collapsed": false,
    "pycharm": {
     "name": "#%%\n",
     "is_executing": false
    }
   }
  }
 ],
 "metadata": {
  "kernelspec": {
   "display_name": "Python 3",
   "language": "python",
   "name": "python3"
  },
  "language_info": {
   "codemirror_mode": {
    "name": "ipython",
    "version": 3
   },
   "file_extension": ".py",
   "mimetype": "text/x-python",
   "name": "python",
   "nbconvert_exporter": "python",
   "pygments_lexer": "ipython3",
   "version": "3.7.5"
  },
  "pycharm": {
   "stem_cell": {
    "cell_type": "raw",
    "source": [],
    "metadata": {
     "collapsed": false
    }
   }
  }
 },
 "nbformat": 4,
 "nbformat_minor": 4
}