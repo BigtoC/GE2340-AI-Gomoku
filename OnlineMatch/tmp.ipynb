{
 "cells": [
  {
   "cell_type": "code",
   "execution_count": 1,
   "metadata": {
    "pycharm": {
     "is_executing": false
    }
   },
   "outputs": [],
   "source": [
    "from pyppeteer import launch\n",
    "import asyncio\n",
    "import nest_asyncio\n",
    "import OnlineMatch.global_data as gb\n",
    "import OnlineMatch.monitor_result as mon\n",
    "\n",
    "nest_asyncio.apply()"
   ]
  },
  {
   "cell_type": "code",
   "execution_count": 3,
   "metadata": {
    "pycharm": {
     "is_executing": false
    }
   },
   "outputs": [
    {
     "data": {
      "text/plain": "'https://dkmgames.com/Gomoku/gomoku.htm'"
     },
     "metadata": {},
     "output_type": "execute_result",
     "execution_count": 3
    }
   ],
   "source": []
  },
  {
   "cell_type": "code",
   "execution_count": 2,
   "metadata": {
    "collapsed": false,
    "jupyter": {
     "outputs_hidden": false
    },
    "pycharm": {
     "is_executing": false,
     "name": "#%%\n"
    }
   },
   "outputs": [],
   "source": [
    "async def start_computer_game():\n",
    "    \"\"\"\n",
    "    Go to the match ready page\n",
    "    :return: None\n",
    "    \"\"\"\n",
    "    mon.print_time_and_msg(\"Setting up browser for web page...\")\n",
    "    url = \"https://dkmgames.com/Gomoku/gomoku.htm\"\n",
    "\n",
    "    gb.browser = await launch({\n",
    "        \"headless\": False,\n",
    "        \"autoClose\": False\n",
    "    })\n",
    "    page = await gb.browser.newPage()\n",
    "\n",
    "    await page.setViewport({'width': 1920, 'height': 1080})\n",
    "    await page.goto(url, {'timeout': 10000 * 30})\n",
    "\n",
    "    while not await page.J(\"#newgame\"):\n",
    "        mon.random_wait()\n",
    "    mon.print_time_and_msg(f\"Website is rendered!\")\n",
    "\n",
    "    # Select opponent\n",
    "    # await page.click(gb.opponent_selector)\n",
    "    # mon.print_time_and_msg(f\"Selected opponent as {gb.opponent_choice}\")\n",
    "    # mon.random_wait()\n",
    "\n",
    "    # Select color\n",
    "    await page.click(gb.color_selector)\n",
    "    mon.print_time_and_msg(f\"Color selected as {gb.start_color}\")\n",
    "    mon.random_wait()\n",
    "\n",
    "    # Select level\n",
    "    await page.click(gb.level_selector)\n",
    "    mon.print_time_and_msg(f\"Selected level {gb.level_choice}\")\n",
    "    mon.random_wait()\n",
    "\n",
    "    # Uncheck 4 line warning\n",
    "    await page.click(\"#cbWarn\")\n",
    "    mon.random_wait()\n",
    "\n",
    "    # Click start\n",
    "    start_btn_selector = \"#btnPlay\"\n",
    "    await page.click(start_btn_selector)\n",
    "    mon.print_time_and_msg(f\"Clicked start button \")\n",
    "    mon.random_wait()\n",
    "\n",
    "    gb.page = page\n",
    "    asyncio.get_event_loop().run_until_complete(get_img_position())\n"
   ]
  },
  {
   "cell_type": "code",
   "execution_count": 3,
   "metadata": {
    "collapsed": false,
    "jupyter": {
     "outputs_hidden": false
    },
    "pycharm": {
     "name": "#%%\n",
     "is_executing": false
    }
   },
   "outputs": [],
   "source": [
    "async def get_img_position():\n",
    "    \"\"\"\n",
    "    Get the chessboard location\n",
    "    :return: Location tuple\n",
    "    \"\"\"\n",
    "\n",
    "    board_selector = \"#grid\"\n",
    "    chessboard = await gb.page.J(board_selector)\n",
    "    location = await chessboard.boundingBox()  # location is a dict\n",
    "    mon.print_time_and_msg(f\"Got chessboard location: {location}\")\n",
    "    gb.board_start_x = location['x']\n",
    "    gb.board_start_y = location['y']\n",
    "    gb.board_location = location\n",
    "\n",
    "\n",
    "async def get_chessboard_img(who: str):\n",
    "    \"\"\"\n",
    "    Get the screenshot of the chessboard\n",
    "    :param: Who moved\n",
    "    :return: None\n",
    "    \"\"\"\n",
    "    captcha_option = {\n",
    "        \"path\": f\"Pictures/chessboard-{who}.png\",\n",
    "        \"type\": \"png\",\n",
    "        \"clip\": gb.board_location\n",
    "    }\n",
    "    await gb.page.screenshot(captcha_option)\n",
    "    mon.print_time_and_msg(f\"Took screenshot chessboard-{who}.png\")"
   ]
  },
  {
   "cell_type": "code",
   "execution_count": 4,
   "metadata": {
    "collapsed": false,
    "jupyter": {
     "outputs_hidden": false
    },
    "pycharm": {
     "name": "#%%\n",
     "is_executing": false
    }
   },
   "outputs": [],
   "source": [
    "async def move():\n",
    "    place_x = gb.board_start_x + 38.13333 * 2\n",
    "    place_y = gb.board_start_y + 38.13333 * 2\n",
    "    await gb.page.mouse.click(place_x, place_y)\n",
    "    asyncio.get_event_loop().run_until_complete(\n",
    "        get_chessboard_img(\"some\")\n",
    "    )"
   ]
  },
  {
   "cell_type": "code",
   "execution_count": 7,
   "outputs": [
    {
     "name": "stdout",
     "text": [
      "[02:54:00:11] - Setting up browser for web page...\n",
      "[02:54:04:11] - Website is rendered!\n[02:54:04:11] - Color selected as w\n",
      "[02:54:05:11] - Selected level 3\n",
      "[02:54:06:11] - Clicked start button \n",
      "[02:54:07:11] - Got chessboard location: {'x': 20, 'y': 10, 'width': 572, 'height': 572}\n",
      "[02:54:07:11] - Took screenshot chessboard-opp.png\n"
     ],
     "output_type": "stream"
    }
   ],
   "source": [
    "asyncio.get_event_loop().run_until_complete(\n",
    "        start_computer_game()\n",
    ")\n",
    "asyncio.get_event_loop().run_until_complete(\n",
    "    get_chessboard_img(\"opp\")\n",
    ")\n"
   ],
   "metadata": {
    "collapsed": false,
    "pycharm": {
     "name": "#%%\n",
     "is_executing": false
    }
   }
  },
  {
   "cell_type": "code",
   "execution_count": 6,
   "outputs": [
    {
     "name": "stdout",
     "text": [
      "[02:45:50:11] - Took screenshot chessboard-some.png\n"
     ],
     "output_type": "stream"
    }
   ],
   "source": [
    "asyncio.get_event_loop().run_until_complete(\n",
    "    move()\n",
    ")\n",
    "\n"
   ],
   "metadata": {
    "collapsed": false,
    "pycharm": {
     "name": "#%%\n",
     "is_executing": false
    }
   }
  },
  {
   "cell_type": "code",
   "execution_count": 8,
   "outputs": [],
   "source": [
    "func = \"function sleep(milliseconds) {\\\n",
    "  var start = new Date().getTime();\\\n",
    "  for (var i = 0; i < 1e7; i++) {\\\n",
    "    if ((new Date().getTime() - start) > milliseconds){\\\n",
    "      break;\\\n",
    "    }\\\n",
    "  }\\\n",
    "}\""
   ],
   "metadata": {
    "collapsed": false,
    "pycharm": {
     "name": "#%%\n",
     "is_executing": false
    }
   }
  },
  {
   "cell_type": "code",
   "execution_count": 11,
   "outputs": [
    {
     "data": {
      "text/plain": "<coroutine object Page.evaluate at 0x000002753E70FE48>"
     },
     "metadata": {},
     "output_type": "execute_result",
     "execution_count": 11
    }
   ],
   "source": [
    "gb.page.evaluate(pageFunction=func)"
   ],
   "metadata": {
    "collapsed": false,
    "pycharm": {
     "name": "#%%\n",
     "is_executing": false
    }
   }
  },
  {
   "cell_type": "code",
   "execution_count": 12,
   "outputs": [
    {
     "data": {
      "text/plain": "<coroutine object Page.evaluate at 0x000002753E70F948>"
     },
     "metadata": {},
     "output_type": "execute_result",
     "execution_count": 12
    }
   ],
   "source": [
    "gb.page.evaluate(pageFunction=\"sleep(5000)\")\n",
    "\n"
   ],
   "metadata": {
    "collapsed": false,
    "pycharm": {
     "name": "#%%\n",
     "is_executing": false
    }
   }
  }
 ],
 "metadata": {
  "kernelspec": {
   "display_name": "Python 3",
   "language": "python",
   "name": "python3"
  },
  "language_info": {
   "codemirror_mode": {
    "name": "ipython",
    "version": 3
   },
   "file_extension": ".py",
   "mimetype": "text/x-python",
   "name": "python",
   "nbconvert_exporter": "python",
   "pygments_lexer": "ipython3",
   "version": "3.7.5"
  },
  "pycharm": {
   "stem_cell": {
    "cell_type": "raw",
    "source": [],
    "metadata": {
     "collapsed": false
    }
   }
  }
 },
 "nbformat": 4,
 "nbformat_minor": 4
}